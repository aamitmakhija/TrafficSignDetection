{
 "cells": [
  {
   "cell_type": "code",
   "execution_count": 1,
   "metadata": {},
   "outputs": [],
   "source": [
    "import numpy as np\n",
    "import pandas as pd\n",
    "from sklearn.cluster import KMeans\n",
    "import matplotlib.pyplot as plt\n",
    "import random\n",
    "from sklearn.metrics import homogeneity_score, silhouette_score, accuracy_score, silhouette_samples\n",
    "\n",
    "from collections import Counter\n",
    "from tqdm import tqdm\n",
    "import os\n",
    "import shutil\n",
    "from sklearn.cluster import AgglomerativeClustering, DBSCAN"
   ]
  },
  {
   "cell_type": "code",
   "execution_count": 3,
   "metadata": {},
   "outputs": [
    {
     "name": "stdout",
     "output_type": "stream",
     "text": [
      "(9690, 2304)\n",
      "(3090, 2304)\n",
      "(9690, 1)\n",
      "(3090, 1)\n"
     ]
    }
   ],
   "source": [
    "x_train = pd.read_csv(\"x_train_all.csv\")\n",
    "y_train = pd.read_csv(\"y_train_all.csv\")\n",
    "x_test = pd.read_csv(\"x_test_all.csv\")\n",
    "y_test = pd.read_csv(\"y_test_all.csv\")\n",
    "\n",
    "# Checking the shape\n",
    "print(x_train.shape)\n",
    "print(x_test.shape)\n",
    "print(y_train.shape)\n",
    "print(y_test.shape)"
   ]
  },
  {
   "cell_type": "code",
   "execution_count": 4,
   "metadata": {},
   "outputs": [],
   "source": [
    "# Convert Pandas DataFrames to NumPy arrays\n",
    "x_train_np = x_train.to_numpy()\n",
    "x_test_np = x_test.to_numpy()\n",
    "\n",
    "# Reshape x_train and x_test to 2D arrays\n",
    "x_train_reshaped = x_train_np.reshape(x_train_np.shape[0], -1)\n",
    "x_test_reshaped = x_test_np.reshape(x_test_np.shape[0], -1)"
   ]
  },
  {
   "cell_type": "code",
   "execution_count": 5,
   "metadata": {},
   "outputs": [
    {
     "data": {
      "text/plain": [
       "((9690, 2304), (3090, 2304))"
      ]
     },
     "execution_count": 5,
     "metadata": {},
     "output_type": "execute_result"
    }
   ],
   "source": [
    "x_train_reshaped.shape, x_test_reshaped.shape"
   ]
  },
  {
   "cell_type": "code",
   "execution_count": 6,
   "metadata": {},
   "outputs": [
    {
     "data": {
      "text/plain": [
       "((9690, 2304), (3090, 2304))"
      ]
     },
     "execution_count": 6,
     "metadata": {},
     "output_type": "execute_result"
    }
   ],
   "source": [
    "# Scale pixel values to the [0, 1] range\n",
    "x_train_scaled = x_train_reshaped / 255.0\n",
    "x_test_scaled = x_test_reshaped / 255.0\n",
    "\n",
    "x_train_scaled.shape, x_test_scaled.shape"
   ]
  },
  {
   "cell_type": "code",
   "execution_count": 7,
   "metadata": {},
   "outputs": [
    {
     "name": "stderr",
     "output_type": "stream",
     "text": [
      "/Users/amitmakhija/opt/anaconda3/lib/python3.9/site-packages/sklearn/cluster/_kmeans.py:1416: FutureWarning: The default value of `n_init` will change from 10 to 'auto' in 1.4. Set the value of `n_init` explicitly to suppress the warning\n",
      "  super()._check_params_vs_input(X, default_n_init=10)\n"
     ]
    }
   ],
   "source": [
    "# Choose the number of clusters (K)\n",
    "K = 10  # You can adjust this value as needed\n",
    "\n",
    "# Perform K-means clustering on x_train\n",
    "kmeans = KMeans(n_clusters=K, random_state=42)\n",
    "cluster_labels = kmeans.fit_predict(x_train_scaled)\n",
    "\n",
    "# Optionally, you can also assign x_test data to clusters:\n",
    "test_cluster_labels = kmeans.predict(x_test_scaled)"
   ]
  },
  {
   "cell_type": "code",
   "execution_count": 8,
   "metadata": {},
   "outputs": [
    {
     "name": "stdout",
     "output_type": "stream",
     "text": [
      "Number of images in each training data cluster:\n",
      "Counter({9: 1996, 1: 1696, 8: 1315, 0: 1029, 3: 968, 6: 761, 5: 533, 4: 499, 7: 466, 2: 427})\n"
     ]
    }
   ],
   "source": [
    "# If you want to see the distribution of images in each cluster:\n",
    "from collections import Counter\n",
    "\n",
    "cluster_counts = Counter(cluster_labels)\n",
    "print(\"Number of images in each training data cluster:\")\n",
    "print(cluster_counts)"
   ]
  },
  {
   "cell_type": "code",
   "execution_count": 9,
   "metadata": {},
   "outputs": [
    {
     "name": "stdout",
     "output_type": "stream",
     "text": [
      "Number of images in each testing data cluster:\n",
      "Counter({9: 692, 1: 650, 8: 419, 0: 340, 3: 293, 6: 197, 4: 168, 2: 157, 7: 92, 5: 82})\n"
     ]
    }
   ],
   "source": [
    "# If you want to see the distribution of images in each cluster:\n",
    "from collections import Counter\n",
    "\n",
    "test_cluster_counts = Counter(test_cluster_labels)\n",
    "print(\"Number of images in each testing data cluster:\")\n",
    "print(test_cluster_counts)"
   ]
  },
  {
   "cell_type": "markdown",
   "metadata": {},
   "source": [
    "# K-means Clustering"
   ]
  },
  {
   "cell_type": "markdown",
   "metadata": {},
   "source": [
    "### Elbow Method"
   ]
  },
  {
   "cell_type": "code",
   "execution_count": 21,
   "metadata": {},
   "outputs": [
    {
     "name": "stderr",
     "output_type": "stream",
     "text": [
      "/Users/amitmakhija/opt/anaconda3/lib/python3.9/site-packages/sklearn/cluster/_kmeans.py:1416: FutureWarning: The default value of `n_init` will change from 10 to 'auto' in 1.4. Set the value of `n_init` explicitly to suppress the warning\n",
      "  super()._check_params_vs_input(X, default_n_init=10)\n",
      "/Users/amitmakhija/opt/anaconda3/lib/python3.9/site-packages/sklearn/cluster/_kmeans.py:1416: FutureWarning: The default value of `n_init` will change from 10 to 'auto' in 1.4. Set the value of `n_init` explicitly to suppress the warning\n",
      "  super()._check_params_vs_input(X, default_n_init=10)\n",
      "/Users/amitmakhija/opt/anaconda3/lib/python3.9/site-packages/sklearn/cluster/_kmeans.py:1416: FutureWarning: The default value of `n_init` will change from 10 to 'auto' in 1.4. Set the value of `n_init` explicitly to suppress the warning\n",
      "  super()._check_params_vs_input(X, default_n_init=10)\n",
      "/Users/amitmakhija/opt/anaconda3/lib/python3.9/site-packages/sklearn/cluster/_kmeans.py:1416: FutureWarning: The default value of `n_init` will change from 10 to 'auto' in 1.4. Set the value of `n_init` explicitly to suppress the warning\n",
      "  super()._check_params_vs_input(X, default_n_init=10)\n",
      "/Users/amitmakhija/opt/anaconda3/lib/python3.9/site-packages/sklearn/cluster/_kmeans.py:1416: FutureWarning: The default value of `n_init` will change from 10 to 'auto' in 1.4. Set the value of `n_init` explicitly to suppress the warning\n",
      "  super()._check_params_vs_input(X, default_n_init=10)\n",
      "/Users/amitmakhija/opt/anaconda3/lib/python3.9/site-packages/sklearn/cluster/_kmeans.py:1416: FutureWarning: The default value of `n_init` will change from 10 to 'auto' in 1.4. Set the value of `n_init` explicitly to suppress the warning\n",
      "  super()._check_params_vs_input(X, default_n_init=10)\n",
      "/Users/amitmakhija/opt/anaconda3/lib/python3.9/site-packages/sklearn/cluster/_kmeans.py:1416: FutureWarning: The default value of `n_init` will change from 10 to 'auto' in 1.4. Set the value of `n_init` explicitly to suppress the warning\n",
      "  super()._check_params_vs_input(X, default_n_init=10)\n",
      "/Users/amitmakhija/opt/anaconda3/lib/python3.9/site-packages/sklearn/cluster/_kmeans.py:1416: FutureWarning: The default value of `n_init` will change from 10 to 'auto' in 1.4. Set the value of `n_init` explicitly to suppress the warning\n",
      "  super()._check_params_vs_input(X, default_n_init=10)\n",
      "/Users/amitmakhija/opt/anaconda3/lib/python3.9/site-packages/sklearn/cluster/_kmeans.py:1416: FutureWarning: The default value of `n_init` will change from 10 to 'auto' in 1.4. Set the value of `n_init` explicitly to suppress the warning\n",
      "  super()._check_params_vs_input(X, default_n_init=10)\n",
      "/Users/amitmakhija/opt/anaconda3/lib/python3.9/site-packages/sklearn/cluster/_kmeans.py:1416: FutureWarning: The default value of `n_init` will change from 10 to 'auto' in 1.4. Set the value of `n_init` explicitly to suppress the warning\n",
      "  super()._check_params_vs_input(X, default_n_init=10)\n"
     ]
    },
    {
     "data": {
      "image/png": "[encoded data removed]",
      "text/plain": [
       "<Figure size 576x432 with 1 Axes>"
      ]
     },
     "metadata": {
      "needs_background": "light"
     },
     "output_type": "display_data"
    }
   ],
   "source": [
    "# Define a range of K values to test\n",
    "k_values = range(1, 11)  # You can adjust this range as needed\n",
    "\n",
    "# Initialize empty lists to store K values and inertia scores\n",
    "k_values_list = []\n",
    "inertia_scores = []\n",
    "\n",
    "# Run K-means for each K value and record the inertia (variance explained)\n",
    "for K in k_values:\n",
    "    kmeans = KMeans(n_clusters=K, random_state=42)\n",
    "    kmeans.fit(x_train_scaled)  # Adjust this to your data\n",
    "    k_values_list.append(K)\n",
    "    inertia_scores.append(kmeans.inertia_)\n",
    "\n",
    "# Create a Pandas DataFrame to display the results\n",
    "results_df = pd.DataFrame({'K': k_values_list, 'Inertia (Variance Explained)': inertia_scores})\n",
    "\n",
    "# Plot the variance explained as a function of K\n",
    "plt.figure(figsize=(8, 6))\n",
    "plt.plot(k_values, inertia_scores, marker='o', linestyle='-')\n",
    "plt.title('Elbow Method for Optimal K')\n",
    "plt.xlabel('Number of Clusters (K)')\n",
    "plt.ylabel('Inertia (Variance Explained)')\n",
    "plt.grid(True)\n",
    "plt.show()"
   ]
  },
  {
   "cell_type": "markdown",
   "metadata": {},
   "source": [
    "### Silhouette plot"
   ]
  },
  {
   "cell_type": "code",
   "execution_count": 22,
   "metadata": {},
   "outputs": [
    {
     "name": "stderr",
     "output_type": "stream",
     "text": [
      "/Users/amitmakhija/opt/anaconda3/lib/python3.9/site-packages/sklearn/cluster/_kmeans.py:1416: FutureWarning: The default value of `n_init` will change from 10 to 'auto' in 1.4. Set the value of `n_init` explicitly to suppress the warning\n",
      "  super()._check_params_vs_input(X, default_n_init=10)\n"
     ]
    },
    {
     "name": "stdout",
     "output_type": "stream",
     "text": [
      "Number of images in each cluster:\n",
      "Counter({9: 1996, 1: 1696, 8: 1315, 0: 1029, 3: 968, 6: 761, 5: 533, 4: 499, 7: 466, 2: 427})\n",
      "Silhouette Score: 0.13167132623580743\n",
      "Silhouette Score for Training Data: 0.13167132623580743\n"
     ]
    },
    {
     "data": {
      "image/png": "[encoded data removed]",
      "text/plain": [
       "<Figure size 720x360 with 1 Axes>"
      ]
     },
     "metadata": {
      "needs_background": "light"
     },
     "output_type": "display_data"
    }
   ],
   "source": [
    "# Convert Pandas DataFrames to NumPy arrays\n",
    "x_train_np = x_train.to_numpy()\n",
    "x_test_np = x_test.to_numpy()\n",
    "\n",
    "# Reshape x_train and x_test to 2D arrays\n",
    "x_train_reshaped = x_train_np.reshape(x_train_np.shape[0], -1)\n",
    "x_test_reshaped = x_test_np.reshape(x_test_np.shape[0], -1)\n",
    "\n",
    "# Scale pixel values to the [0, 1] range\n",
    "x_train_scaled = x_train_reshaped / 255.0\n",
    "x_test_scaled = x_test_reshaped / 255.0\n",
    "\n",
    "# Choose the number of clusters (K)\n",
    "K = 10  # You can adjust this value as needed\n",
    "\n",
    "# Perform K-means clustering on x_train\n",
    "kmeans = KMeans(n_clusters=K, random_state=42)\n",
    "cluster_labels = kmeans.fit_predict(x_train_scaled)\n",
    "\n",
    "# Optionally, you can also assign x_test data to clusters:\n",
    "test_cluster_labels = kmeans.predict(x_test_scaled)\n",
    "\n",
    "# If you want to see the distribution of images in each cluster:\n",
    "from collections import Counter\n",
    "\n",
    "cluster_counts = Counter(cluster_labels)\n",
    "print(\"Number of images in each cluster:\")\n",
    "print(cluster_counts)\n",
    "\n",
    "# You can also access the cluster centroids if needed\n",
    "cluster_centers = kmeans.cluster_centers_\n",
    "\n",
    "# Optionally, save the cluster assignments with their corresponding labels (y_train)\n",
    "cluster_assignments = np.column_stack((cluster_labels, y_train))\n",
    "\n",
    "# Calculate the Silhouette Score for the entire clustering\n",
    "silhouette_avg = silhouette_score(x_train_scaled, cluster_labels)\n",
    "print(f\"Silhouette Score: {silhouette_avg}\")\n",
    "\n",
    "# Calculate the Silhouette Score for the training data\n",
    "silhouette_avg_train = silhouette_score(x_train_scaled, cluster_labels)\n",
    "print(f\"Silhouette Score for Training Data: {silhouette_avg_train}\")\n",
    "\n",
    "# Optionally, you can compute the silhouette scores for individual samples:\n",
    "sample_silhouette_values = silhouette_samples(x_train_scaled, cluster_labels)\n",
    "\n",
    "# Visualize the silhouette scores for individual samples if needed\n",
    "import matplotlib.pyplot as plt\n",
    "import numpy as np\n",
    "\n",
    "plt.figure(figsize=(10, 5))\n",
    "y_lower = 10\n",
    "\n",
    "for i in range(K):\n",
    "    ith_cluster_silhouette_values = sample_silhouette_values[cluster_labels == i]\n",
    "    ith_cluster_silhouette_values.sort()\n",
    "    size_cluster_i = ith_cluster_silhouette_values.shape[0]\n",
    "    y_upper = y_lower + size_cluster_i\n",
    "\n",
    "    color = plt.cm.nipy_spectral(float(i) / K)\n",
    "    plt.fill_betweenx(np.arange(y_lower, y_upper), 0, ith_cluster_silhouette_values, facecolor=color, edgecolor=color, alpha=0.7)\n",
    "    plt.text(-0.05, y_lower + 0.5 * size_cluster_i, str(i))\n",
    "    y_lower = y_upper + 10\n",
    "\n",
    "plt.title(\"Silhouette plot for each cluster\")\n",
    "plt.xlabel(\"Silhouette coefficient values\")\n",
    "plt.ylabel(\"Cluster label\")\n",
    "\n",
    "plt.show()"
   ]
  },
  {
   "cell_type": "markdown",
   "metadata": {},
   "source": [
    "### Homogeneity score, Silhouette Score & K-means score "
   ]
  },
  {
   "cell_type": "code",
   "execution_count": 23,
   "metadata": {},
   "outputs": [
    {
     "name": "stderr",
     "output_type": "stream",
     "text": [
      "/Users/amitmakhija/opt/anaconda3/lib/python3.9/site-packages/sklearn/cluster/_kmeans.py:1416: FutureWarning: The default value of `n_init` will change from 10 to 'auto' in 1.4. Set the value of `n_init` explicitly to suppress the warning\n",
      "  super()._check_params_vs_input(X, default_n_init=10)\n",
      "/Users/amitmakhija/opt/anaconda3/lib/python3.9/site-packages/sklearn/cluster/_kmeans.py:1416: FutureWarning: The default value of `n_init` will change from 10 to 'auto' in 1.4. Set the value of `n_init` explicitly to suppress the warning\n",
      "  super()._check_params_vs_input(X, default_n_init=10)\n",
      "/Users/amitmakhija/opt/anaconda3/lib/python3.9/site-packages/sklearn/cluster/_kmeans.py:1416: FutureWarning: The default value of `n_init` will change from 10 to 'auto' in 1.4. Set the value of `n_init` explicitly to suppress the warning\n",
      "  super()._check_params_vs_input(X, default_n_init=10)\n",
      "/Users/amitmakhija/opt/anaconda3/lib/python3.9/site-packages/sklearn/cluster/_kmeans.py:1416: FutureWarning: The default value of `n_init` will change from 10 to 'auto' in 1.4. Set the value of `n_init` explicitly to suppress the warning\n",
      "  super()._check_params_vs_input(X, default_n_init=10)\n",
      "/Users/amitmakhija/opt/anaconda3/lib/python3.9/site-packages/sklearn/cluster/_kmeans.py:1416: FutureWarning: The default value of `n_init` will change from 10 to 'auto' in 1.4. Set the value of `n_init` explicitly to suppress the warning\n",
      "  super()._check_params_vs_input(X, default_n_init=10)\n",
      "/Users/amitmakhija/opt/anaconda3/lib/python3.9/site-packages/sklearn/cluster/_kmeans.py:1416: FutureWarning: The default value of `n_init` will change from 10 to 'auto' in 1.4. Set the value of `n_init` explicitly to suppress the warning\n",
      "  super()._check_params_vs_input(X, default_n_init=10)\n",
      "/Users/amitmakhija/opt/anaconda3/lib/python3.9/site-packages/sklearn/cluster/_kmeans.py:1416: FutureWarning: The default value of `n_init` will change from 10 to 'auto' in 1.4. Set the value of `n_init` explicitly to suppress the warning\n",
      "  super()._check_params_vs_input(X, default_n_init=10)\n",
      "/Users/amitmakhija/opt/anaconda3/lib/python3.9/site-packages/sklearn/cluster/_kmeans.py:1416: FutureWarning: The default value of `n_init` will change from 10 to 'auto' in 1.4. Set the value of `n_init` explicitly to suppress the warning\n",
      "  super()._check_params_vs_input(X, default_n_init=10)\n",
      "/Users/amitmakhija/opt/anaconda3/lib/python3.9/site-packages/sklearn/cluster/_kmeans.py:1416: FutureWarning: The default value of `n_init` will change from 10 to 'auto' in 1.4. Set the value of `n_init` explicitly to suppress the warning\n",
      "  super()._check_params_vs_input(X, default_n_init=10)\n"
     ]
    }
   ],
   "source": [
    "# Define a range of K values to test\n",
    "k_values = range(2, 11)  # You can adjust this range as needed\n",
    "\n",
    "# Initialize empty lists to store K values and evaluation metrics\n",
    "k_values_list = []\n",
    "homogeneity_scores = []\n",
    "silhouette_scores = []\n",
    "homogeneity_per_cluster = []  # Store homogeneity scores for each cluster\n",
    "kmeans_scores = []\n",
    "\n",
    "# Flatten or reshape y_train to a 1D array\n",
    "y_train_flat = y_train.values.ravel()\n",
    "\n",
    "# Run K-means for each K value and record the evaluation metrics\n",
    "for K in k_values:\n",
    "    kmeans = KMeans(n_clusters=K, random_state=42)\n",
    "    cluster_labels = kmeans.fit_predict(x_train_scaled)  # Adjust this to your data\n",
    "    k_values_list.append(K)\n",
    "    \n",
    "    # Homogeneity score\n",
    "    homogeneity = homogeneity_score(y_train_flat, cluster_labels)  # Use y_train_flat\n",
    "    homogeneity_scores.append(homogeneity)\n",
    "    \n",
    "    # Silhouette score\n",
    "    silhouette = silhouette_score(x_train_scaled, cluster_labels)\n",
    "    silhouette_scores.append(silhouette)\n",
    "    \n",
    "    # K-means score (inertia)\n",
    "    kmeans_scores.append(kmeans.inertia_)\n",
    "    \n",
    "    # Calculate the homogeneity score for each cluster within this K value\n",
    "    cluster_homogeneity = []\n",
    "    for cluster in range(K):\n",
    "        mask = cluster_labels == cluster\n",
    "        cluster_homogeneity.append(homogeneity_score(y_train_flat[mask], cluster_labels[mask]))\n",
    "    homogeneity_per_cluster.append(cluster_homogeneity)\n",
    "\n",
    "# Create a Pandas DataFrame to display the results\n",
    "results_df = pd.DataFrame({\n",
    "    'K': k_values_list,\n",
    "    'Homogeneity Score': homogeneity_scores,\n",
    "    'Silhouette Score': silhouette_scores,\n",
    "    'K-means Score': kmeans_scores,\n",
    "})"
   ]
  },
  {
   "cell_type": "code",
   "execution_count": 24,
   "metadata": {},
   "outputs": [
    {
     "data": {
      "text/html": [
       "<div>\n",
       "<style scoped>\n",
       "    .dataframe tbody tr th:only-of-type {\n",
       "        vertical-align: middle;\n",
       "    }\n",
       "\n",
       "    .dataframe tbody tr th {\n",
       "        vertical-align: top;\n",
       "    }\n",
       "\n",
       "    .dataframe thead th {\n",
       "        text-align: right;\n",
       "    }\n",
       "</style>\n",
       "<table border=\"1\" class=\"dataframe\">\n",
       "  <thead>\n",
       "    <tr style=\"text-align: right;\">\n",
       "      <th></th>\n",
       "      <th>K</th>\n",
       "      <th>Homogeneity Score</th>\n",
       "      <th>Silhouette Score</th>\n",
       "      <th>K-means Score</th>\n",
       "    </tr>\n",
       "  </thead>\n",
       "  <tbody>\n",
       "    <tr>\n",
       "      <th>0</th>\n",
       "      <td>2</td>\n",
       "      <td>0.022571</td>\n",
       "      <td>0.356843</td>\n",
       "      <td>1.007271e+06</td>\n",
       "    </tr>\n",
       "    <tr>\n",
       "      <th>1</th>\n",
       "      <td>3</td>\n",
       "      <td>0.048831</td>\n",
       "      <td>0.317890</td>\n",
       "      <td>8.373307e+05</td>\n",
       "    </tr>\n",
       "    <tr>\n",
       "      <th>2</th>\n",
       "      <td>4</td>\n",
       "      <td>0.056187</td>\n",
       "      <td>0.311564</td>\n",
       "      <td>7.584196e+05</td>\n",
       "    </tr>\n",
       "    <tr>\n",
       "      <th>3</th>\n",
       "      <td>5</td>\n",
       "      <td>0.077529</td>\n",
       "      <td>0.214171</td>\n",
       "      <td>6.921302e+05</td>\n",
       "    </tr>\n",
       "    <tr>\n",
       "      <th>4</th>\n",
       "      <td>6</td>\n",
       "      <td>0.084131</td>\n",
       "      <td>0.205789</td>\n",
       "      <td>6.570755e+05</td>\n",
       "    </tr>\n",
       "    <tr>\n",
       "      <th>5</th>\n",
       "      <td>7</td>\n",
       "      <td>0.102945</td>\n",
       "      <td>0.210099</td>\n",
       "      <td>6.284782e+05</td>\n",
       "    </tr>\n",
       "    <tr>\n",
       "      <th>6</th>\n",
       "      <td>8</td>\n",
       "      <td>0.113859</td>\n",
       "      <td>0.152749</td>\n",
       "      <td>6.046234e+05</td>\n",
       "    </tr>\n",
       "    <tr>\n",
       "      <th>7</th>\n",
       "      <td>9</td>\n",
       "      <td>0.117119</td>\n",
       "      <td>0.142941</td>\n",
       "      <td>5.892508e+05</td>\n",
       "    </tr>\n",
       "    <tr>\n",
       "      <th>8</th>\n",
       "      <td>10</td>\n",
       "      <td>0.119103</td>\n",
       "      <td>0.131671</td>\n",
       "      <td>5.763796e+05</td>\n",
       "    </tr>\n",
       "  </tbody>\n",
       "</table>\n",
       "</div>"
      ],
      "text/plain": [
       "    K  Homogeneity Score  Silhouette Score  K-means Score\n",
       "0   2           0.022571          0.356843   1.007271e+06\n",
       "1   3           0.048831          0.317890   8.373307e+05\n",
       "2   4           0.056187          0.311564   7.584196e+05\n",
       "3   5           0.077529          0.214171   6.921302e+05\n",
       "4   6           0.084131          0.205789   6.570755e+05\n",
       "5   7           0.102945          0.210099   6.284782e+05\n",
       "6   8           0.113859          0.152749   6.046234e+05\n",
       "7   9           0.117119          0.142941   5.892508e+05\n",
       "8  10           0.119103          0.131671   5.763796e+05"
      ]
     },
     "execution_count": 24,
     "metadata": {},
     "output_type": "execute_result"
    }
   ],
   "source": [
    "results_df.head(10)"
   ]
  },
  {
   "cell_type": "code",
   "execution_count": 25,
   "metadata": {},
   "outputs": [
    {
     "name": "stderr",
     "output_type": "stream",
     "text": [
      "/Users/amitmakhija/opt/anaconda3/lib/python3.9/site-packages/sklearn/cluster/_kmeans.py:1416: FutureWarning: The default value of `n_init` will change from 10 to 'auto' in 1.4. Set the value of `n_init` explicitly to suppress the warning\n",
      "  super()._check_params_vs_input(X, default_n_init=10)\n"
     ]
    }
   ],
   "source": [
    "# Create a K-means model with K=2\n",
    "kmeans = KMeans(n_clusters=2, random_state=42)\n",
    "\n",
    "# Fit the model on your training data\n",
    "kmeans.fit(x_train_scaled)\n",
    "\n",
    "# Predict cluster labels for your test data\n",
    "test_cluster_labels = kmeans.predict(x_test_scaled)\n"
   ]
  },
  {
   "cell_type": "code",
   "execution_count": 26,
   "metadata": {},
   "outputs": [
    {
     "name": "stdout",
     "output_type": "stream",
     "text": [
      "Accuracy: 14.53%\n"
     ]
    }
   ],
   "source": [
    "accuracy = accuracy_score(y_test, test_cluster_labels)\n",
    "\n",
    "print(f'Accuracy: {accuracy * 100:.2f}%')\n"
   ]
  },
  {
   "cell_type": "markdown",
   "metadata": {},
   "source": [
    "# Heirarchical Clusering"
   ]
  },
  {
   "cell_type": "code",
   "execution_count": 27,
   "metadata": {},
   "outputs": [],
   "source": [
    "# Define the number of clusters (K)\n",
    "K = 2\n",
    "\n",
    "# Perform Agglomerative Clustering for training data\n",
    "model = AgglomerativeClustering(n_clusters=K)\n",
    "cluster_labels = model.fit_predict(x_train_scaled)\n",
    "\n",
    "test_cluster_labels = model.fit_predict(x_test_scaled)"
   ]
  },
  {
   "cell_type": "code",
   "execution_count": 28,
   "metadata": {},
   "outputs": [
    {
     "name": "stdout",
     "output_type": "stream",
     "text": [
      "Accuracy: 8.16%\n"
     ]
    }
   ],
   "source": [
    "# Calculate accuracy by comparing true labels (y_test) with predicted cluster labels (test_cluster_labels)\n",
    "accuracy = accuracy_score(y_test, test_cluster_labels)\n",
    "\n",
    "print(f'Accuracy: {accuracy * 100:.2f}%')"
   ]
  },
  {
   "cell_type": "code",
   "execution_count": null,
   "metadata": {},
   "outputs": [],
   "source": []
  },
  {
   "cell_type": "code",
   "execution_count": null,
   "metadata": {},
   "outputs": [],
   "source": []
  }
 ],
 "metadata": {
  "kernelspec": {
   "display_name": "Python 3 (ipykernel)",
   "language": "python",
   "name": "python3"
  },
  "language_info": {
   "codemirror_mode": {
    "name": "ipython",
    "version": 3
   },
   "file_extension": ".py",
   "mimetype": "text/x-python",
   "name": "python",
   "nbconvert_exporter": "python",
   "pygments_lexer": "ipython3",
   "version": "3.9.12"
  }
 },
 "nbformat": 4,
 "nbformat_minor": 2
}
